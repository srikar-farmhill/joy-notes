{
 "cells": [
  {
   "cell_type": "markdown",
   "id": "1cfd9ef2-db6a-4f6f-9d07-5f0e994bb55e",
   "metadata": {},
   "source": [
    "# Homework 07"
   ]
  },
  {
   "cell_type": "code",
   "execution_count": 1,
   "id": "60b5bcea-6dee-4303-9ebc-1d75d72aa2d7",
   "metadata": {},
   "outputs": [],
   "source": [
    "from joy import *"
   ]
  },
  {
   "cell_type": "markdown",
   "id": "e5fc6460-3516-4920-8807-d2c4009bf173",
   "metadata": {},
   "source": [
    "## Utilities"
   ]
  },
  {
   "cell_type": "markdown",
   "id": "38bd8ce6-dd3f-419f-8261-af9453beaa15",
   "metadata": {},
   "source": [
    "You may need to use the following functions of this homework."
   ]
  },
  {
   "cell_type": "markdown",
   "id": "217b0396-74c5-4449-b5b3-997896a8a3bb",
   "metadata": {},
   "source": [
    "### Super Grid V2"
   ]
  },
  {
   "cell_type": "markdown",
   "id": "0abc3f17-d400-4763-a510-0e74b0c9c146",
   "metadata": {},
   "source": [
    "The `super_grid_v2` function creates a nxn grid and calls the `shape_maker` function to draw a shape in each cell of the grid.\n",
    "\n",
    "The `shape_maker` function gets `size` - the size of the cell, `row`, `column` and `n` as arguments."
   ]
  },
  {
   "cell_type": "code",
   "execution_count": 4,
   "id": "afc32165-cfac-4844-a05f-9939dbb7735d",
   "metadata": {},
   "outputs": [],
   "source": [
    "def super_grid_v2(shape_maker, n):\n",
    "    size = 300/n\n",
    "    r = size/2\n",
    "    x = -150+r\n",
    "    y = -150+r\n",
    "    shapes = []\n",
    "    for j in range(n):\n",
    "        for i in range(n):\n",
    "            c = shape_maker(size, row=j, column=i, n=n)|translate(x=x, y=y)\n",
    "            shapes.append(c)\n",
    "            x = x+size\n",
    "        y = y+size\n",
    "        x = -150+r\n",
    "    return combine(shapes)"
   ]
  },
  {
   "cell_type": "code",
   "execution_count": 5,
   "id": "6336ed3f-d4bb-485e-a2b7-e3f5ca518ace",
   "metadata": {},
   "outputs": [],
   "source": [
    "def make_circle(size, row, column, n):\n",
    "    return circle(r=size/2)"
   ]
  },
  {
   "cell_type": "code",
   "execution_count": 6,
   "id": "5286355d-d226-41fd-8378-5e0196e50fd3",
   "metadata": {},
   "outputs": [
    {
     "data": {
      "image/svg+xml": [
       "<svg width=\"300\" height=\"300\" viewBox=\"-150 -150 300 300\" fill=\"none\" stroke=\"black\" xmlns=\"http://www.w3.org/2000/svg\" xmlns:xlink=\"http://www.w3.org/1999/xlink\">\n",
       "<g transform=\"scale(1 -1)\">\n",
       "  <g>\n",
       "    <circle cx=\"0\" cy=\"0\" r=\"30.0\" transform=\"translate(-120.0 -120.0)\" />\n",
       "    <circle cx=\"0\" cy=\"0\" r=\"30.0\" transform=\"translate(-60.0 -120.0)\" />\n",
       "    <circle cx=\"0\" cy=\"0\" r=\"30.0\" transform=\"translate(0.0 -120.0)\" />\n",
       "    <circle cx=\"0\" cy=\"0\" r=\"30.0\" transform=\"translate(60.0 -120.0)\" />\n",
       "    <circle cx=\"0\" cy=\"0\" r=\"30.0\" transform=\"translate(120.0 -120.0)\" />\n",
       "    <circle cx=\"0\" cy=\"0\" r=\"30.0\" transform=\"translate(-120.0 -60.0)\" />\n",
       "    <circle cx=\"0\" cy=\"0\" r=\"30.0\" transform=\"translate(-60.0 -60.0)\" />\n",
       "    <circle cx=\"0\" cy=\"0\" r=\"30.0\" transform=\"translate(0.0 -60.0)\" />\n",
       "    <circle cx=\"0\" cy=\"0\" r=\"30.0\" transform=\"translate(60.0 -60.0)\" />\n",
       "    <circle cx=\"0\" cy=\"0\" r=\"30.0\" transform=\"translate(120.0 -60.0)\" />\n",
       "    <circle cx=\"0\" cy=\"0\" r=\"30.0\" transform=\"translate(-120.0 0.0)\" />\n",
       "    <circle cx=\"0\" cy=\"0\" r=\"30.0\" transform=\"translate(-60.0 0.0)\" />\n",
       "    <circle cx=\"0\" cy=\"0\" r=\"30.0\" transform=\"translate(0.0 0.0)\" />\n",
       "    <circle cx=\"0\" cy=\"0\" r=\"30.0\" transform=\"translate(60.0 0.0)\" />\n",
       "    <circle cx=\"0\" cy=\"0\" r=\"30.0\" transform=\"translate(120.0 0.0)\" />\n",
       "    <circle cx=\"0\" cy=\"0\" r=\"30.0\" transform=\"translate(-120.0 60.0)\" />\n",
       "    <circle cx=\"0\" cy=\"0\" r=\"30.0\" transform=\"translate(-60.0 60.0)\" />\n",
       "    <circle cx=\"0\" cy=\"0\" r=\"30.0\" transform=\"translate(0.0 60.0)\" />\n",
       "    <circle cx=\"0\" cy=\"0\" r=\"30.0\" transform=\"translate(60.0 60.0)\" />\n",
       "    <circle cx=\"0\" cy=\"0\" r=\"30.0\" transform=\"translate(120.0 60.0)\" />\n",
       "    <circle cx=\"0\" cy=\"0\" r=\"30.0\" transform=\"translate(-120.0 120.0)\" />\n",
       "    <circle cx=\"0\" cy=\"0\" r=\"30.0\" transform=\"translate(-60.0 120.0)\" />\n",
       "    <circle cx=\"0\" cy=\"0\" r=\"30.0\" transform=\"translate(0.0 120.0)\" />\n",
       "    <circle cx=\"0\" cy=\"0\" r=\"30.0\" transform=\"translate(60.0 120.0)\" />\n",
       "    <circle cx=\"0\" cy=\"0\" r=\"30.0\" transform=\"translate(120.0 120.0)\" />\n",
       "  </g>\n",
       "</g>\n",
       "</svg>\n"
      ],
      "text/plain": [
       "<g {}>"
      ]
     },
     "execution_count": 6,
     "metadata": {},
     "output_type": "execute_result"
    }
   ],
   "source": [
    "super_grid_v2(make_circle, 5)"
   ]
  },
  {
   "cell_type": "markdown",
   "id": "6f0884e2-2bd1-4022-ac9c-def047998395",
   "metadata": {},
   "source": [
    "### Concentric Circles"
   ]
  },
  {
   "cell_type": "markdown",
   "id": "c072a554-6b3f-465a-b9a9-73b76f1d03fa",
   "metadata": {},
   "source": [
    "The `concentric_circles` function draws `n` concentric circles with outer circle taking the specified `radius`."
   ]
  },
  {
   "cell_type": "code",
   "execution_count": 7,
   "id": "c17ffa60-2fd0-45d5-a73b-fffe14ca8b02",
   "metadata": {},
   "outputs": [],
   "source": [
    "blank = circle(r=0, stroke=\"none\")\n",
    "\n",
    "def concentric_circles(radius, n):\n",
    "    if n <= 0:\n",
    "        return blank\n",
    "\n",
    "    delta = radius/n\n",
    "    circles = [circle(r=i*delta) for i in range(1, n+1)]\n",
    "    return combine(circles)"
   ]
  },
  {
   "cell_type": "code",
   "execution_count": 8,
   "id": "a3eb4873-ecd0-490a-b245-ba1c457fb497",
   "metadata": {},
   "outputs": [
    {
     "data": {
      "image/svg+xml": [
       "<svg width=\"300\" height=\"300\" viewBox=\"-150 -150 300 300\" fill=\"none\" stroke=\"black\" xmlns=\"http://www.w3.org/2000/svg\" xmlns:xlink=\"http://www.w3.org/1999/xlink\">\n",
       "<g transform=\"scale(1 -1)\">\n",
       "  <g>\n",
       "    <circle cx=\"0\" cy=\"0\" r=\"33.333333333333336\" />\n",
       "    <circle cx=\"0\" cy=\"0\" r=\"66.66666666666667\" />\n",
       "    <circle cx=\"0\" cy=\"0\" r=\"100.0\" />\n",
       "  </g>\n",
       "</g>\n",
       "</svg>\n"
      ],
      "text/plain": [
       "<g {}>"
      ]
     },
     "execution_count": 8,
     "metadata": {},
     "output_type": "execute_result"
    }
   ],
   "source": [
    "concentric_circles(radius=100, n=3)"
   ]
  },
  {
   "cell_type": "markdown",
   "id": "eedf4770-6768-4abc-b76a-7f3e504a4b93",
   "metadata": {},
   "source": [
    "### Show Table"
   ]
  },
  {
   "cell_type": "markdown",
   "id": "4543562c-4ac7-41ab-9ac1-24dd2d8f2c60",
   "metadata": {},
   "source": [
    "The `show_table` is a utility to see the values an expression over row and column as a table."
   ]
  },
  {
   "cell_type": "code",
   "execution_count": 9,
   "id": "98a6cffa-df5c-421a-80fa-35150b8cfb8e",
   "metadata": {},
   "outputs": [],
   "source": [
    "from tabulate import tabulate\n",
    "\n",
    "def show_table(n, expr):\n",
    "    rows = list(range(n))[::-1]\n",
    "    columns = list(range(n))\n",
    "    headers = [\"\"] + [f\"C{c}\" for c in columns]\n",
    "    data = [[f\"R{row}\"] +[eval(expr, {\"row\": row, \"column\": column, \"n\": n}) for column in columns] for row in rows]    \n",
    "    print(tabulate(data, headers=headers))"
   ]
  },
  {
   "cell_type": "code",
   "execution_count": 10,
   "id": "f1b9991c-6c7c-4875-8aa6-036a9b9817fd",
   "metadata": {},
   "outputs": [
    {
     "name": "stdout",
     "output_type": "stream",
     "text": [
      "      C0    C1    C2    C3\n",
      "--  ----  ----  ----  ----\n",
      "R3     4     5     6     7\n",
      "R2     3     4     5     6\n",
      "R1     2     3     4     5\n",
      "R0     1     2     3     4\n"
     ]
    }
   ],
   "source": [
    "show_table(4, \"row + column + 1\")"
   ]
  },
  {
   "cell_type": "code",
   "execution_count": 11,
   "id": "d22b5f7e-d09f-4439-bdfe-f72ec41f8a77",
   "metadata": {},
   "outputs": [
    {
     "name": "stdout",
     "output_type": "stream",
     "text": [
      "      C0    C1    C2    C3\n",
      "--  ----  ----  ----  ----\n",
      "R3     1     2     3     4\n",
      "R2     2     3     4     5\n",
      "R1     3     4     5     6\n",
      "R0     4     5     6     7\n"
     ]
    }
   ],
   "source": [
    "show_table(4, \"column-row+4\")"
   ]
  },
  {
   "cell_type": "code",
   "execution_count": null,
   "id": "410db572-9235-4233-a53c-b1368ffc6694",
   "metadata": {},
   "outputs": [],
   "source": []
  },
  {
   "cell_type": "markdown",
   "id": "b9905add-97a8-4b42-8a10-f0a9fe98e17e",
   "metadata": {},
   "source": [
    "## Problem 1"
   ]
  },
  {
   "cell_type": "markdown",
   "id": "073093db-e62a-4cea-8404-ddb07d33b00d",
   "metadata": {},
   "source": [
    "Draw the following shape.\n",
    "\n",
    "![Problem 1](images/hw07-ellipse-stars.svg)"
   ]
  },
  {
   "cell_type": "code",
   "execution_count": 12,
   "id": "6cb2c903-9507-4ec8-918d-b5e9ba5d28eb",
   "metadata": {},
   "outputs": [],
   "source": [
    "from wizard import *"
   ]
  },
  {
   "cell_type": "code",
   "execution_count": 13,
   "id": "2f38a1dc-8961-41df-a91e-5e647ed6bbb2",
   "metadata": {},
   "outputs": [],
   "source": [
    "def make_ellipse_star(size, row, column, n):\n",
    "    n=(column-row+4)\n",
    "    return ellipse(w=size, h=size/2)|repeat(n, rotate(180/n))"
   ]
  },
  {
   "cell_type": "code",
   "execution_count": 14,
   "id": "cff8d2f7-825e-4ee9-a0e5-5efa43c4db04",
   "metadata": {},
   "outputs": [
    {
     "data": {
      "image/svg+xml": [
       "<svg width=\"300\" height=\"300\" viewBox=\"-150 -150 300 300\" fill=\"none\" stroke=\"black\" xmlns=\"http://www.w3.org/2000/svg\" xmlns:xlink=\"http://www.w3.org/1999/xlink\">\n",
       "<g transform=\"scale(1 -1)\">\n",
       "  <g>\n",
       "    <g transform=\"translate(-112.5 -112.5)\">\n",
       "      <defs>\n",
       "        <ellipse cx=\"0\" cy=\"0\" rx=\"37.5\" ry=\"18.75\" id=\"s-0-RIJD\" />\n",
       "      </defs>\n",
       "      <g>\n",
       "        <use xlink:href=\"#s-0-RIJD\" />\n",
       "        <g transform=\"rotate(45.0)\">\n",
       "          <use xlink:href=\"#s-0-RIJD\" />\n",
       "          <g transform=\"rotate(45.0)\">\n",
       "            <use xlink:href=\"#s-0-RIJD\" />\n",
       "            <use xlink:href=\"#s-0-RIJD\" transform=\"rotate(45.0)\" />\n",
       "          </g>\n",
       "        </g>\n",
       "      </g>\n",
       "    </g>\n",
       "    <g transform=\"translate(-37.5 -112.5)\">\n",
       "      <defs>\n",
       "        <ellipse cx=\"0\" cy=\"0\" rx=\"37.5\" ry=\"18.75\" id=\"s-1-RIJD\" />\n",
       "      </defs>\n",
       "      <g>\n",
       "        <use xlink:href=\"#s-1-RIJD\" />\n",
       "        <g transform=\"rotate(36.0)\">\n",
       "          <use xlink:href=\"#s-1-RIJD\" />\n",
       "          <g transform=\"rotate(36.0)\">\n",
       "            <use xlink:href=\"#s-1-RIJD\" />\n",
       "            <g transform=\"rotate(36.0)\">\n",
       "              <use xlink:href=\"#s-1-RIJD\" />\n",
       "              <use xlink:href=\"#s-1-RIJD\" transform=\"rotate(36.0)\" />\n",
       "            </g>\n",
       "          </g>\n",
       "        </g>\n",
       "      </g>\n",
       "    </g>\n",
       "    <g transform=\"translate(37.5 -112.5)\">\n",
       "      <defs>\n",
       "        <ellipse cx=\"0\" cy=\"0\" rx=\"37.5\" ry=\"18.75\" id=\"s-2-RIJD\" />\n",
       "      </defs>\n",
       "      <g>\n",
       "        <use xlink:href=\"#s-2-RIJD\" />\n",
       "        <g transform=\"rotate(30.0)\">\n",
       "          <use xlink:href=\"#s-2-RIJD\" />\n",
       "          <g transform=\"rotate(30.0)\">\n",
       "            <use xlink:href=\"#s-2-RIJD\" />\n",
       "            <g transform=\"rotate(30.0)\">\n",
       "              <use xlink:href=\"#s-2-RIJD\" />\n",
       "              <g transform=\"rotate(30.0)\">\n",
       "                <use xlink:href=\"#s-2-RIJD\" />\n",
       "                <use xlink:href=\"#s-2-RIJD\" transform=\"rotate(30.0)\" />\n",
       "              </g>\n",
       "            </g>\n",
       "          </g>\n",
       "        </g>\n",
       "      </g>\n",
       "    </g>\n",
       "    <g transform=\"translate(112.5 -112.5)\">\n",
       "      <defs>\n",
       "        <ellipse cx=\"0\" cy=\"0\" rx=\"37.5\" ry=\"18.75\" id=\"s-3-RIJD\" />\n",
       "      </defs>\n",
       "      <g>\n",
       "        <use xlink:href=\"#s-3-RIJD\" />\n",
       "        <g transform=\"rotate(25.714285714285715)\">\n",
       "          <use xlink:href=\"#s-3-RIJD\" />\n",
       "          <g transform=\"rotate(25.714285714285715)\">\n",
       "            <use xlink:href=\"#s-3-RIJD\" />\n",
       "            <g transform=\"rotate(25.714285714285715)\">\n",
       "              <use xlink:href=\"#s-3-RIJD\" />\n",
       "              <g transform=\"rotate(25.714285714285715)\">\n",
       "                <use xlink:href=\"#s-3-RIJD\" />\n",
       "                <g transform=\"rotate(25.714285714285715)\">\n",
       "                  <use xlink:href=\"#s-3-RIJD\" />\n",
       "                  <use xlink:href=\"#s-3-RIJD\" transform=\"rotate(25.714285714285715)\" />\n",
       "                </g>\n",
       "              </g>\n",
       "            </g>\n",
       "          </g>\n",
       "        </g>\n",
       "      </g>\n",
       "    </g>\n",
       "    <g transform=\"translate(-112.5 -37.5)\">\n",
       "      <defs>\n",
       "        <ellipse cx=\"0\" cy=\"0\" rx=\"37.5\" ry=\"18.75\" id=\"s-4-RIJD\" />\n",
       "      </defs>\n",
       "      <g>\n",
       "        <use xlink:href=\"#s-4-RIJD\" />\n",
       "        <g transform=\"rotate(60.0)\">\n",
       "          <use xlink:href=\"#s-4-RIJD\" />\n",
       "          <use xlink:href=\"#s-4-RIJD\" transform=\"rotate(60.0)\" />\n",
       "        </g>\n",
       "      </g>\n",
       "    </g>\n",
       "    <g transform=\"translate(-37.5 -37.5)\">\n",
       "      <defs>\n",
       "        <ellipse cx=\"0\" cy=\"0\" rx=\"37.5\" ry=\"18.75\" id=\"s-5-RIJD\" />\n",
       "      </defs>\n",
       "      <g>\n",
       "        <use xlink:href=\"#s-5-RIJD\" />\n",
       "        <g transform=\"rotate(45.0)\">\n",
       "          <use xlink:href=\"#s-5-RIJD\" />\n",
       "          <g transform=\"rotate(45.0)\">\n",
       "            <use xlink:href=\"#s-5-RIJD\" />\n",
       "            <use xlink:href=\"#s-5-RIJD\" transform=\"rotate(45.0)\" />\n",
       "          </g>\n",
       "        </g>\n",
       "      </g>\n",
       "    </g>\n",
       "    <g transform=\"translate(37.5 -37.5)\">\n",
       "      <defs>\n",
       "        <ellipse cx=\"0\" cy=\"0\" rx=\"37.5\" ry=\"18.75\" id=\"s-6-RIJD\" />\n",
       "      </defs>\n",
       "      <g>\n",
       "        <use xlink:href=\"#s-6-RIJD\" />\n",
       "        <g transform=\"rotate(36.0)\">\n",
       "          <use xlink:href=\"#s-6-RIJD\" />\n",
       "          <g transform=\"rotate(36.0)\">\n",
       "            <use xlink:href=\"#s-6-RIJD\" />\n",
       "            <g transform=\"rotate(36.0)\">\n",
       "              <use xlink:href=\"#s-6-RIJD\" />\n",
       "              <use xlink:href=\"#s-6-RIJD\" transform=\"rotate(36.0)\" />\n",
       "            </g>\n",
       "          </g>\n",
       "        </g>\n",
       "      </g>\n",
       "    </g>\n",
       "    <g transform=\"translate(112.5 -37.5)\">\n",
       "      <defs>\n",
       "        <ellipse cx=\"0\" cy=\"0\" rx=\"37.5\" ry=\"18.75\" id=\"s-7-RIJD\" />\n",
       "      </defs>\n",
       "      <g>\n",
       "        <use xlink:href=\"#s-7-RIJD\" />\n",
       "        <g transform=\"rotate(30.0)\">\n",
       "          <use xlink:href=\"#s-7-RIJD\" />\n",
       "          <g transform=\"rotate(30.0)\">\n",
       "            <use xlink:href=\"#s-7-RIJD\" />\n",
       "            <g transform=\"rotate(30.0)\">\n",
       "              <use xlink:href=\"#s-7-RIJD\" />\n",
       "              <g transform=\"rotate(30.0)\">\n",
       "                <use xlink:href=\"#s-7-RIJD\" />\n",
       "                <use xlink:href=\"#s-7-RIJD\" transform=\"rotate(30.0)\" />\n",
       "              </g>\n",
       "            </g>\n",
       "          </g>\n",
       "        </g>\n",
       "      </g>\n",
       "    </g>\n",
       "    <g transform=\"translate(-112.5 37.5)\">\n",
       "      <defs>\n",
       "        <ellipse cx=\"0\" cy=\"0\" rx=\"37.5\" ry=\"18.75\" id=\"s-8-RIJD\" />\n",
       "      </defs>\n",
       "      <g>\n",
       "        <use xlink:href=\"#s-8-RIJD\" />\n",
       "        <use xlink:href=\"#s-8-RIJD\" transform=\"rotate(90.0)\" />\n",
       "      </g>\n",
       "    </g>\n",
       "    <g transform=\"translate(-37.5 37.5)\">\n",
       "      <defs>\n",
       "        <ellipse cx=\"0\" cy=\"0\" rx=\"37.5\" ry=\"18.75\" id=\"s-9-RIJD\" />\n",
       "      </defs>\n",
       "      <g>\n",
       "        <use xlink:href=\"#s-9-RIJD\" />\n",
       "        <g transform=\"rotate(60.0)\">\n",
       "          <use xlink:href=\"#s-9-RIJD\" />\n",
       "          <use xlink:href=\"#s-9-RIJD\" transform=\"rotate(60.0)\" />\n",
       "        </g>\n",
       "      </g>\n",
       "    </g>\n",
       "    <g transform=\"translate(37.5 37.5)\">\n",
       "      <defs>\n",
       "        <ellipse cx=\"0\" cy=\"0\" rx=\"37.5\" ry=\"18.75\" id=\"s-10-RIJD\" />\n",
       "      </defs>\n",
       "      <g>\n",
       "        <use xlink:href=\"#s-10-RIJD\" />\n",
       "        <g transform=\"rotate(45.0)\">\n",
       "          <use xlink:href=\"#s-10-RIJD\" />\n",
       "          <g transform=\"rotate(45.0)\">\n",
       "            <use xlink:href=\"#s-10-RIJD\" />\n",
       "            <use xlink:href=\"#s-10-RIJD\" transform=\"rotate(45.0)\" />\n",
       "          </g>\n",
       "        </g>\n",
       "      </g>\n",
       "    </g>\n",
       "    <g transform=\"translate(112.5 37.5)\">\n",
       "      <defs>\n",
       "        <ellipse cx=\"0\" cy=\"0\" rx=\"37.5\" ry=\"18.75\" id=\"s-11-RIJD\" />\n",
       "      </defs>\n",
       "      <g>\n",
       "        <use xlink:href=\"#s-11-RIJD\" />\n",
       "        <g transform=\"rotate(36.0)\">\n",
       "          <use xlink:href=\"#s-11-RIJD\" />\n",
       "          <g transform=\"rotate(36.0)\">\n",
       "            <use xlink:href=\"#s-11-RIJD\" />\n",
       "            <g transform=\"rotate(36.0)\">\n",
       "              <use xlink:href=\"#s-11-RIJD\" />\n",
       "              <use xlink:href=\"#s-11-RIJD\" transform=\"rotate(36.0)\" />\n",
       "            </g>\n",
       "          </g>\n",
       "        </g>\n",
       "      </g>\n",
       "    </g>\n",
       "    <g transform=\"translate(-112.5 112.5)\">\n",
       "      <defs>\n",
       "        <ellipse cx=\"0\" cy=\"0\" rx=\"37.5\" ry=\"18.75\" id=\"s-12-RIJD\" />\n",
       "      </defs>\n",
       "      <use xlink:href=\"#s-12-RIJD\" />\n",
       "    </g>\n",
       "    <g transform=\"translate(-37.5 112.5)\">\n",
       "      <defs>\n",
       "        <ellipse cx=\"0\" cy=\"0\" rx=\"37.5\" ry=\"18.75\" id=\"s-13-RIJD\" />\n",
       "      </defs>\n",
       "      <g>\n",
       "        <use xlink:href=\"#s-13-RIJD\" />\n",
       "        <use xlink:href=\"#s-13-RIJD\" transform=\"rotate(90.0)\" />\n",
       "      </g>\n",
       "    </g>\n",
       "    <g transform=\"translate(37.5 112.5)\">\n",
       "      <defs>\n",
       "        <ellipse cx=\"0\" cy=\"0\" rx=\"37.5\" ry=\"18.75\" id=\"s-14-RIJD\" />\n",
       "      </defs>\n",
       "      <g>\n",
       "        <use xlink:href=\"#s-14-RIJD\" />\n",
       "        <g transform=\"rotate(60.0)\">\n",
       "          <use xlink:href=\"#s-14-RIJD\" />\n",
       "          <use xlink:href=\"#s-14-RIJD\" transform=\"rotate(60.0)\" />\n",
       "        </g>\n",
       "      </g>\n",
       "    </g>\n",
       "    <g transform=\"translate(112.5 112.5)\">\n",
       "      <defs>\n",
       "        <ellipse cx=\"0\" cy=\"0\" rx=\"37.5\" ry=\"18.75\" id=\"s-15-RIJD\" />\n",
       "      </defs>\n",
       "      <g>\n",
       "        <use xlink:href=\"#s-15-RIJD\" />\n",
       "        <g transform=\"rotate(45.0)\">\n",
       "          <use xlink:href=\"#s-15-RIJD\" />\n",
       "          <g transform=\"rotate(45.0)\">\n",
       "            <use xlink:href=\"#s-15-RIJD\" />\n",
       "            <use xlink:href=\"#s-15-RIJD\" transform=\"rotate(45.0)\" />\n",
       "          </g>\n",
       "        </g>\n",
       "      </g>\n",
       "    </g>\n",
       "  </g>\n",
       "</g>\n",
       "</svg>\n"
      ],
      "text/plain": [
       "<g {}>"
      ]
     },
     "execution_count": 14,
     "metadata": {},
     "output_type": "execute_result"
    }
   ],
   "source": [
    "super_grid_v2(make_ellipse_star, 4)"
   ]
  },
  {
   "cell_type": "markdown",
   "id": "851529a4-ac4c-4263-8833-a99e5dd5a4a9",
   "metadata": {},
   "source": [
    "## Problem 2"
   ]
  },
  {
   "cell_type": "markdown",
   "id": "59251fb3-ef19-4bb7-8c1f-136dee16bbe4",
   "metadata": {},
   "source": [
    "Draw the following shape.\n",
    "\n",
    "![Problem 2](images/hw07-circles.svg)"
   ]
  },
  {
   "cell_type": "code",
   "execution_count": 15,
   "id": "15da290e-a7cf-4d12-b99f-384ca5f572c4",
   "metadata": {},
   "outputs": [],
   "source": [
    "def fat_donut(x, y, r):\n",
    "    a = circle(x=x, y=y, r=r)\n",
    "    b = circle(x=x, y=y, r=r/3)\n",
    "    return a+b\n",
    "\n",
    "def circle_bowl(size):\n",
    "    size = 300\n",
    "    ring = circle(x=100, y=0, r=size/6)|repeat(4, rotate(90))\n",
    "    return ring + fat_donut(x=0, y=0, r=size/2)"
   ]
  },
  {
   "cell_type": "code",
   "execution_count": 16,
   "id": "923bb815-f368-491e-8e86-5ed8db8a0831",
   "metadata": {},
   "outputs": [
    {
     "data": {
      "image/svg+xml": [
       "<svg width=\"300\" height=\"300\" viewBox=\"-150 -150 300 300\" fill=\"none\" stroke=\"black\" xmlns=\"http://www.w3.org/2000/svg\" xmlns:xlink=\"http://www.w3.org/1999/xlink\">\n",
       "<g transform=\"scale(1 -1)\">\n",
       "  <g>\n",
       "    <g>\n",
       "      <defs>\n",
       "        <circle cx=\"100\" cy=\"0\" r=\"50.0\" id=\"s-16-RIJD\" />\n",
       "      </defs>\n",
       "      <g>\n",
       "        <use xlink:href=\"#s-16-RIJD\" />\n",
       "        <g transform=\"rotate(90)\">\n",
       "          <use xlink:href=\"#s-16-RIJD\" />\n",
       "          <g transform=\"rotate(90)\">\n",
       "            <use xlink:href=\"#s-16-RIJD\" />\n",
       "            <use xlink:href=\"#s-16-RIJD\" transform=\"rotate(90)\" />\n",
       "          </g>\n",
       "        </g>\n",
       "      </g>\n",
       "    </g>\n",
       "    <g>\n",
       "      <circle cx=\"0\" cy=\"0\" r=\"150.0\" />\n",
       "      <circle cx=\"0\" cy=\"0\" r=\"50.0\" />\n",
       "    </g>\n",
       "  </g>\n",
       "</g>\n",
       "</svg>\n"
      ],
      "text/plain": [
       "<g {}>"
      ]
     },
     "execution_count": 16,
     "metadata": {},
     "output_type": "execute_result"
    }
   ],
   "source": [
    "circle_bowl(300)"
   ]
  },
  {
   "cell_type": "code",
   "execution_count": null,
   "id": "363a4fee-8003-4825-8f10-19d0aceb6381",
   "metadata": {},
   "outputs": [],
   "source": []
  },
  {
   "cell_type": "markdown",
   "id": "97db38f0-a0ed-44b6-8198-5ca78e6a34f0",
   "metadata": {},
   "source": [
    "## Problem 3"
   ]
  },
  {
   "cell_type": "markdown",
   "id": "ca441fff-401a-463e-b0b7-4f43a8017544",
   "metadata": {},
   "source": [
    "Draw the following shape.\n",
    "\n",
    "![Problem 2](images/hw07-six-circles.svg)"
   ]
  },
  {
   "cell_type": "code",
   "execution_count": 17,
   "id": "653dc1fe-c228-46d3-9501-d6c6a817b947",
   "metadata": {},
   "outputs": [],
   "source": [
    "def circle_bowl(size):\n",
    "    size = 300\n",
    "    ring = circle(x=100, y=0, r=size/6)|repeat(6, rotate(60))\n",
    "    return ring + fat_donut(x=0, y=0, r=size/2)"
   ]
  },
  {
   "cell_type": "code",
   "execution_count": 18,
   "id": "5627e293-ccc4-456c-bacd-ab6f4a4646aa",
   "metadata": {},
   "outputs": [
    {
     "data": {
      "image/svg+xml": [
       "<svg width=\"300\" height=\"300\" viewBox=\"-150 -150 300 300\" fill=\"none\" stroke=\"black\" xmlns=\"http://www.w3.org/2000/svg\" xmlns:xlink=\"http://www.w3.org/1999/xlink\">\n",
       "<g transform=\"scale(1 -1)\">\n",
       "  <g>\n",
       "    <g>\n",
       "      <defs>\n",
       "        <circle cx=\"100\" cy=\"0\" r=\"50.0\" id=\"s-17-RIJD\" />\n",
       "      </defs>\n",
       "      <g>\n",
       "        <use xlink:href=\"#s-17-RIJD\" />\n",
       "        <g transform=\"rotate(60)\">\n",
       "          <use xlink:href=\"#s-17-RIJD\" />\n",
       "          <g transform=\"rotate(60)\">\n",
       "            <use xlink:href=\"#s-17-RIJD\" />\n",
       "            <g transform=\"rotate(60)\">\n",
       "              <use xlink:href=\"#s-17-RIJD\" />\n",
       "              <g transform=\"rotate(60)\">\n",
       "                <use xlink:href=\"#s-17-RIJD\" />\n",
       "                <use xlink:href=\"#s-17-RIJD\" transform=\"rotate(60)\" />\n",
       "              </g>\n",
       "            </g>\n",
       "          </g>\n",
       "        </g>\n",
       "      </g>\n",
       "    </g>\n",
       "    <g>\n",
       "      <circle cx=\"0\" cy=\"0\" r=\"150.0\" />\n",
       "      <circle cx=\"0\" cy=\"0\" r=\"50.0\" />\n",
       "    </g>\n",
       "  </g>\n",
       "</g>\n",
       "</svg>\n"
      ],
      "text/plain": [
       "<g {}>"
      ]
     },
     "execution_count": 18,
     "metadata": {},
     "output_type": "execute_result"
    }
   ],
   "source": [
    "circle_bowl(300)"
   ]
  },
  {
   "cell_type": "code",
   "execution_count": null,
   "id": "c04e2675-c0b3-4808-afd7-c662076cbcd1",
   "metadata": {},
   "outputs": [],
   "source": []
  },
  {
   "cell_type": "markdown",
   "id": "4e373e85-7e2f-4492-a79c-58f61aa44300",
   "metadata": {},
   "source": [
    "## problem 4"
   ]
  },
  {
   "cell_type": "markdown",
   "id": "1622d0d4-78e9-4516-87b1-ac90a4a003fe",
   "metadata": {},
   "source": [
    "Write a function `circle_pattern` that takes `size` and `n` as arguments and creates the following pattern. The `size` indicates the width and height of the picture and `n` indicates the number of circles draws in each part of the picture.\n",
    "\n",
    "\n",
    "<table>\n",
    "    <tr>\n",
    "        <td>\n",
    "            <figure>\n",
    "              <img src=\"images/hw07-circle-pattern-3.svg\" alt=\"\" />\n",
    "              <figcaption style=\"text-align: center;\"><code>circle_pattern(200, 3)</code></figcaption>\n",
    "            </figure>\n",
    "        </td>\n",
    "        <td>\n",
    "            <figure>\n",
    "              <img src=\"images/hw07-circle-pattern-8.svg\" alt=\"\" />\n",
    "              <figcaption style=\"text-align: center;\"><code>concentric_circles(300, 8)</code></figcaption>\n",
    "            </figure>\n",
    "        </td>\n",
    "    </tr>\n",
    "</table>\n"
   ]
  },
  {
   "cell_type": "code",
   "execution_count": 25,
   "id": "e63b2612-be53-44da-b13d-33bdf87a3cd5",
   "metadata": {},
   "outputs": [],
   "source": [
    "def conbottomic_circles(r, n):\n",
    "    shift = r/n\n",
    "    design = [bcircle(r=i*shift) for i in range(1, n+1)]\n",
    "    return combine(design)|translate(y=-r)\n",
    "\n",
    "def circle_pattern(size, n):\n",
    "    centre = concentric_circles(radius = size/6, n=n)\n",
    "    layer = conbottomic_circles(r=size/6, n=n)|translate(y=size/3)|repeat(6, rotate(60))\n",
    "    return centre+layer"
   ]
  },
  {
   "cell_type": "code",
   "execution_count": 26,
   "id": "30152441-1de1-458a-a4e3-75cc4a7b2db7",
   "metadata": {},
   "outputs": [
    {
     "data": {
      "image/svg+xml": [
       "<svg width=\"300\" height=\"300\" viewBox=\"-150 -150 300 300\" fill=\"none\" stroke=\"black\" xmlns=\"http://www.w3.org/2000/svg\" xmlns:xlink=\"http://www.w3.org/1999/xlink\">\n",
       "<g transform=\"scale(1 -1)\">\n",
       "  <g>\n",
       "    <g>\n",
       "      <circle cx=\"0\" cy=\"0\" r=\"11.111111111111112\" />\n",
       "      <circle cx=\"0\" cy=\"0\" r=\"22.222222222222225\" />\n",
       "      <circle cx=\"0\" cy=\"0\" r=\"33.333333333333336\" />\n",
       "    </g>\n",
       "    <g>\n",
       "      <defs>\n",
       "        <g id=\"s-20-RIJD\" transform=\"translate(0 66.66666666666667) translate(0 -33.333333333333336)\">\n",
       "          <circle cx=\"0\" cy=\"11.111111111111112\" r=\"11.111111111111112\" />\n",
       "          <circle cx=\"0\" cy=\"22.222222222222225\" r=\"22.222222222222225\" />\n",
       "          <circle cx=\"0\" cy=\"33.333333333333336\" r=\"33.333333333333336\" />\n",
       "        </g>\n",
       "      </defs>\n",
       "      <g>\n",
       "        <use xlink:href=\"#s-20-RIJD\" />\n",
       "        <g transform=\"rotate(60)\">\n",
       "          <use xlink:href=\"#s-20-RIJD\" />\n",
       "          <g transform=\"rotate(60)\">\n",
       "            <use xlink:href=\"#s-20-RIJD\" />\n",
       "            <g transform=\"rotate(60)\">\n",
       "              <use xlink:href=\"#s-20-RIJD\" />\n",
       "              <g transform=\"rotate(60)\">\n",
       "                <use xlink:href=\"#s-20-RIJD\" />\n",
       "                <use xlink:href=\"#s-20-RIJD\" transform=\"rotate(60)\" />\n",
       "              </g>\n",
       "            </g>\n",
       "          </g>\n",
       "        </g>\n",
       "      </g>\n",
       "    </g>\n",
       "  </g>\n",
       "</g>\n",
       "</svg>\n"
      ],
      "text/plain": [
       "<g {}>"
      ]
     },
     "execution_count": 26,
     "metadata": {},
     "output_type": "execute_result"
    }
   ],
   "source": [
    "circle_pattern(200, 3)"
   ]
  },
  {
   "cell_type": "code",
   "execution_count": null,
   "id": "a179993e-a3f1-41b9-997f-23f7a8edc5d3",
   "metadata": {},
   "outputs": [],
   "source": []
  },
  {
   "cell_type": "markdown",
   "id": "d643e7d9-51fa-4f86-824f-9472ee42292f",
   "metadata": {},
   "source": [
    "## Problem 5"
   ]
  },
  {
   "cell_type": "markdown",
   "id": "71df9b76-e78c-4f6f-93e1-95deea5f4120",
   "metadata": {},
   "source": [
    "Can you draw the following shape?\n",
    "\n",
    "![Problem 5](images/hw07-circles-in-triangle.svg)\n",
    "\n",
    "Hint: Look at the `super_grid` and `super_grid_v2` functions that you have written before and see if you can modify them to achieve this."
   ]
  },
  {
   "cell_type": "code",
   "execution_count": 31,
   "id": "50ae9389-b936-4205-a14a-92c0a7e10ad8",
   "metadata": {},
   "outputs": [
    {
     "name": "stdout",
     "output_type": "stream",
     "text": [
      "      C0    C1    C2    C3    C4    C5\n",
      "--  ----  ----  ----  ----  ----  ----\n",
      "R5     1     0     0     0     0     0\n",
      "R4     1     1     0     0     0     0\n",
      "R3     1     1     1     0     0     0\n",
      "R2     1     1     1     1     0     0\n",
      "R1     1     1     1     1     1     0\n",
      "R0     1     1     1     1     1     1\n"
     ]
    }
   ],
   "source": [
    "show_table(6, \"(int(n-row>column))\")"
   ]
  },
  {
   "cell_type": "code",
   "execution_count": 34,
   "id": "c0ddb676-9269-4024-a675-629bf90daca1",
   "metadata": {},
   "outputs": [],
   "source": [
    "def make_circle_2(size, row, column, n):\n",
    "    if n-row>column:\n",
    "        return circle(r=size/2)\n",
    "    else:\n",
    "        return circle(r=0)"
   ]
  },
  {
   "cell_type": "code",
   "execution_count": 35,
   "id": "2d3ca350-8150-410c-a535-163cf3c38894",
   "metadata": {},
   "outputs": [
    {
     "data": {
      "image/svg+xml": [
       "<svg width=\"300\" height=\"300\" viewBox=\"-150 -150 300 300\" fill=\"none\" stroke=\"black\" xmlns=\"http://www.w3.org/2000/svg\" xmlns:xlink=\"http://www.w3.org/1999/xlink\">\n",
       "<g transform=\"scale(1 -1)\">\n",
       "  <g>\n",
       "    <circle cx=\"0\" cy=\"0\" r=\"25.0\" transform=\"translate(-125.0 -125.0)\" />\n",
       "    <circle cx=\"0\" cy=\"0\" r=\"25.0\" transform=\"translate(-75.0 -125.0)\" />\n",
       "    <circle cx=\"0\" cy=\"0\" r=\"25.0\" transform=\"translate(-25.0 -125.0)\" />\n",
       "    <circle cx=\"0\" cy=\"0\" r=\"25.0\" transform=\"translate(25.0 -125.0)\" />\n",
       "    <circle cx=\"0\" cy=\"0\" r=\"25.0\" transform=\"translate(75.0 -125.0)\" />\n",
       "    <circle cx=\"0\" cy=\"0\" r=\"25.0\" transform=\"translate(125.0 -125.0)\" />\n",
       "    <circle cx=\"0\" cy=\"0\" r=\"25.0\" transform=\"translate(-125.0 -75.0)\" />\n",
       "    <circle cx=\"0\" cy=\"0\" r=\"25.0\" transform=\"translate(-75.0 -75.0)\" />\n",
       "    <circle cx=\"0\" cy=\"0\" r=\"25.0\" transform=\"translate(-25.0 -75.0)\" />\n",
       "    <circle cx=\"0\" cy=\"0\" r=\"25.0\" transform=\"translate(25.0 -75.0)\" />\n",
       "    <circle cx=\"0\" cy=\"0\" r=\"25.0\" transform=\"translate(75.0 -75.0)\" />\n",
       "    <circle cx=\"0\" cy=\"0\" r=\"0\" transform=\"translate(125.0 -75.0)\" />\n",
       "    <circle cx=\"0\" cy=\"0\" r=\"25.0\" transform=\"translate(-125.0 -25.0)\" />\n",
       "    <circle cx=\"0\" cy=\"0\" r=\"25.0\" transform=\"translate(-75.0 -25.0)\" />\n",
       "    <circle cx=\"0\" cy=\"0\" r=\"25.0\" transform=\"translate(-25.0 -25.0)\" />\n",
       "    <circle cx=\"0\" cy=\"0\" r=\"25.0\" transform=\"translate(25.0 -25.0)\" />\n",
       "    <circle cx=\"0\" cy=\"0\" r=\"0\" transform=\"translate(75.0 -25.0)\" />\n",
       "    <circle cx=\"0\" cy=\"0\" r=\"0\" transform=\"translate(125.0 -25.0)\" />\n",
       "    <circle cx=\"0\" cy=\"0\" r=\"25.0\" transform=\"translate(-125.0 25.0)\" />\n",
       "    <circle cx=\"0\" cy=\"0\" r=\"25.0\" transform=\"translate(-75.0 25.0)\" />\n",
       "    <circle cx=\"0\" cy=\"0\" r=\"25.0\" transform=\"translate(-25.0 25.0)\" />\n",
       "    <circle cx=\"0\" cy=\"0\" r=\"0\" transform=\"translate(25.0 25.0)\" />\n",
       "    <circle cx=\"0\" cy=\"0\" r=\"0\" transform=\"translate(75.0 25.0)\" />\n",
       "    <circle cx=\"0\" cy=\"0\" r=\"0\" transform=\"translate(125.0 25.0)\" />\n",
       "    <circle cx=\"0\" cy=\"0\" r=\"25.0\" transform=\"translate(-125.0 75.0)\" />\n",
       "    <circle cx=\"0\" cy=\"0\" r=\"25.0\" transform=\"translate(-75.0 75.0)\" />\n",
       "    <circle cx=\"0\" cy=\"0\" r=\"0\" transform=\"translate(-25.0 75.0)\" />\n",
       "    <circle cx=\"0\" cy=\"0\" r=\"0\" transform=\"translate(25.0 75.0)\" />\n",
       "    <circle cx=\"0\" cy=\"0\" r=\"0\" transform=\"translate(75.0 75.0)\" />\n",
       "    <circle cx=\"0\" cy=\"0\" r=\"0\" transform=\"translate(125.0 75.0)\" />\n",
       "    <circle cx=\"0\" cy=\"0\" r=\"25.0\" transform=\"translate(-125.0 125.0)\" />\n",
       "    <circle cx=\"0\" cy=\"0\" r=\"0\" transform=\"translate(-75.0 125.0)\" />\n",
       "    <circle cx=\"0\" cy=\"0\" r=\"0\" transform=\"translate(-25.0 125.0)\" />\n",
       "    <circle cx=\"0\" cy=\"0\" r=\"0\" transform=\"translate(25.0 125.0)\" />\n",
       "    <circle cx=\"0\" cy=\"0\" r=\"0\" transform=\"translate(75.0 125.0)\" />\n",
       "    <circle cx=\"0\" cy=\"0\" r=\"0\" transform=\"translate(125.0 125.0)\" />\n",
       "  </g>\n",
       "</g>\n",
       "</svg>\n"
      ],
      "text/plain": [
       "<g {}>"
      ]
     },
     "execution_count": 35,
     "metadata": {},
     "output_type": "execute_result"
    }
   ],
   "source": [
    "super_grid_v2(make_circle_2, 6)"
   ]
  },
  {
   "cell_type": "code",
   "execution_count": null,
   "id": "4d9609e6-924b-4eff-a904-254ec4d4ba40",
   "metadata": {},
   "outputs": [],
   "source": []
  },
  {
   "cell_type": "markdown",
   "id": "5f919e6a-6bcc-4f16-9af1-1e852772472f",
   "metadata": {},
   "source": [
    "### Problem 6 (_Optional_)"
   ]
  },
  {
   "cell_type": "markdown",
   "id": "7190002c-d66d-4c1e-9d53-9c1c5fda1c59",
   "metadata": {},
   "source": [
    "Can you generalize the solution to Problem 5 and use it to draw the following image?\n",
    "\n",
    "You want to create a function `traingular_grid` that takes `shape_maker` and `n` as arguments, with an approach similar to `super_grid_v2`. \n",
    "\n",
    "![Problem 6](images/hw07-circles-in-triangle-parametric.svg)"
   ]
  },
  {
   "cell_type": "code",
   "execution_count": 37,
   "id": "c53ee3b9-ca1d-47e2-a111-7ce70ca26dfd",
   "metadata": {},
   "outputs": [],
   "source": [
    "def super_grid_v2(shape_maker, n):\n",
    "    size = 300/n\n",
    "    r = size/2\n",
    "    x = -150+r\n",
    "    y = -150+r\n",
    "    shapes = []\n",
    "    for j in range(n):\n",
    "        for i in range(n):\n",
    "            c = shape_maker(size, row=j, column=i, n=n)|translate(x=x, y=y)\n",
    "            shapes.append(c)\n",
    "            x = x+size\n",
    "        y = y+size\n",
    "        x = -150+r\n",
    "    return combine(shapes)"
   ]
  },
  {
   "cell_type": "markdown",
   "id": "f4a70367-b87b-49b0-8121-0e88029171d6",
   "metadata": {},
   "source": [
    "We have 6 rows.\n",
    "```\n",
    "R0-C0\n",
    "R1-C0, C1\n",
    "R2-C0, C1, C2\n",
    "R3-C0, C1, C2, C3\n",
    "R4-C0, C1, C2, C3, C4\n",
    "R5-C0, C1, C2, C3, C4, C5\n",
    "\n",
    "```"
   ]
  },
  {
   "cell_type": "code",
   "execution_count": 38,
   "id": "2dfddeb8-8c45-4d47-9747-f9a5bd5034b4",
   "metadata": {},
   "outputs": [
    {
     "name": "stdout",
     "output_type": "stream",
     "text": [
      "0 0\n",
      "0 1\n",
      "0 2\n",
      "1 0\n",
      "1 1\n",
      "1 2\n",
      "2 0\n",
      "2 1\n",
      "2 2\n"
     ]
    },
    {
     "data": {
      "image/svg+xml": [
       "<svg width=\"300\" height=\"300\" viewBox=\"-150 -150 300 300\" fill=\"none\" stroke=\"black\" xmlns=\"http://www.w3.org/2000/svg\" xmlns:xlink=\"http://www.w3.org/1999/xlink\">\n",
       "<g transform=\"scale(1 -1)\">\n",
       "  <g>\n",
       "    <circle cx=\"0\" cy=\"0\" r=\"50.0\" transform=\"translate(-100.0 -100.0)\" />\n",
       "    <circle cx=\"0\" cy=\"0\" r=\"50.0\" transform=\"translate(0.0 -100.0)\" />\n",
       "    <circle cx=\"0\" cy=\"0\" r=\"50.0\" transform=\"translate(100.0 -100.0)\" />\n",
       "    <circle cx=\"0\" cy=\"0\" r=\"50.0\" transform=\"translate(-100.0 0.0)\" />\n",
       "    <circle cx=\"0\" cy=\"0\" r=\"50.0\" transform=\"translate(0.0 0.0)\" />\n",
       "    <circle cx=\"0\" cy=\"0\" r=\"50.0\" transform=\"translate(100.0 0.0)\" />\n",
       "    <circle cx=\"0\" cy=\"0\" r=\"50.0\" transform=\"translate(-100.0 100.0)\" />\n",
       "    <circle cx=\"0\" cy=\"0\" r=\"50.0\" transform=\"translate(0.0 100.0)\" />\n",
       "    <circle cx=\"0\" cy=\"0\" r=\"50.0\" transform=\"translate(100.0 100.0)\" />\n",
       "  </g>\n",
       "</g>\n",
       "</svg>\n"
      ],
      "text/plain": [
       "<g {}>"
      ]
     },
     "execution_count": 38,
     "metadata": {},
     "output_type": "execute_result"
    }
   ],
   "source": [
    "super_grid_v2(make_circle, 3)"
   ]
  },
  {
   "cell_type": "code",
   "execution_count": 71,
   "id": "1785b933-23d9-4ca6-b91b-b26dacfb23af",
   "metadata": {},
   "outputs": [],
   "source": [
    "def triangle_table(n):\n",
    "    for row in range(n):\n",
    "        print(f\"R{row}\", end=\" \")\n",
    "        for column in range(n-row):\n",
    "            print(f\"C{column}\", end=\" \")\n",
    "        print()"
   ]
  },
  {
   "cell_type": "code",
   "execution_count": 72,
   "id": "11e8ce54-0f76-4d01-b43d-e15a2861ed82",
   "metadata": {},
   "outputs": [
    {
     "name": "stdout",
     "output_type": "stream",
     "text": [
      "R0 C0 C1 C2 C3 C4 C5 \n",
      "R1 C0 C1 C2 C3 C4 \n",
      "R2 C0 C1 C2 C3 \n",
      "R3 C0 C1 C2 \n",
      "R4 C0 C1 \n",
      "R5 C0 \n"
     ]
    }
   ],
   "source": [
    "triangle_table(6)"
   ]
  },
  {
   "cell_type": "code",
   "execution_count": 81,
   "id": "ace2f882-b6cd-4f8f-b207-7a297f8236d7",
   "metadata": {},
   "outputs": [],
   "source": [
    "def triangle_grid(shape_maker, n):\n",
    "    size = 300/n\n",
    "    r = size/2\n",
    "    x = -150+r\n",
    "    y = -150+r\n",
    "    shapes = []\n",
    "    for row in range(n):\n",
    "        for column in range(n-row):\n",
    "            c = shape_maker(size, row=n-row-1, column=column, n=n)|translate(x=x, y=y)\n",
    "            shapes.append(c)\n",
    "            x = x+size\n",
    "        y = y+size\n",
    "        x = -150+r\n",
    "    return combine(shapes)"
   ]
  },
  {
   "cell_type": "code",
   "execution_count": 82,
   "id": "645524ec-08aa-424d-a127-4268553e875d",
   "metadata": {},
   "outputs": [
    {
     "data": {
      "image/svg+xml": [
       "<svg width=\"300\" height=\"300\" viewBox=\"-150 -150 300 300\" fill=\"none\" stroke=\"black\" xmlns=\"http://www.w3.org/2000/svg\" xmlns:xlink=\"http://www.w3.org/1999/xlink\">\n",
       "<g transform=\"scale(1 -1)\">\n",
       "  <g>\n",
       "    <circle cx=\"0\" cy=\"0\" r=\"25.0\" transform=\"translate(-125.0 -125.0)\" />\n",
       "    <circle cx=\"0\" cy=\"0\" r=\"25.0\" transform=\"translate(-75.0 -125.0)\" />\n",
       "    <circle cx=\"0\" cy=\"0\" r=\"25.0\" transform=\"translate(-25.0 -125.0)\" />\n",
       "    <circle cx=\"0\" cy=\"0\" r=\"25.0\" transform=\"translate(25.0 -125.0)\" />\n",
       "    <circle cx=\"0\" cy=\"0\" r=\"25.0\" transform=\"translate(75.0 -125.0)\" />\n",
       "    <circle cx=\"0\" cy=\"0\" r=\"25.0\" transform=\"translate(125.0 -125.0)\" />\n",
       "    <circle cx=\"0\" cy=\"0\" r=\"25.0\" transform=\"translate(-125.0 -75.0)\" />\n",
       "    <circle cx=\"0\" cy=\"0\" r=\"25.0\" transform=\"translate(-75.0 -75.0)\" />\n",
       "    <circle cx=\"0\" cy=\"0\" r=\"25.0\" transform=\"translate(-25.0 -75.0)\" />\n",
       "    <circle cx=\"0\" cy=\"0\" r=\"25.0\" transform=\"translate(25.0 -75.0)\" />\n",
       "    <circle cx=\"0\" cy=\"0\" r=\"25.0\" transform=\"translate(75.0 -75.0)\" />\n",
       "    <circle cx=\"0\" cy=\"0\" r=\"25.0\" transform=\"translate(-125.0 -25.0)\" />\n",
       "    <circle cx=\"0\" cy=\"0\" r=\"25.0\" transform=\"translate(-75.0 -25.0)\" />\n",
       "    <circle cx=\"0\" cy=\"0\" r=\"25.0\" transform=\"translate(-25.0 -25.0)\" />\n",
       "    <circle cx=\"0\" cy=\"0\" r=\"25.0\" transform=\"translate(25.0 -25.0)\" />\n",
       "    <circle cx=\"0\" cy=\"0\" r=\"25.0\" transform=\"translate(-125.0 25.0)\" />\n",
       "    <circle cx=\"0\" cy=\"0\" r=\"25.0\" transform=\"translate(-75.0 25.0)\" />\n",
       "    <circle cx=\"0\" cy=\"0\" r=\"25.0\" transform=\"translate(-25.0 25.0)\" />\n",
       "    <circle cx=\"0\" cy=\"0\" r=\"25.0\" transform=\"translate(-125.0 75.0)\" />\n",
       "    <circle cx=\"0\" cy=\"0\" r=\"25.0\" transform=\"translate(-75.0 75.0)\" />\n",
       "    <circle cx=\"0\" cy=\"0\" r=\"25.0\" transform=\"translate(-125.0 125.0)\" />\n",
       "  </g>\n",
       "</g>\n",
       "</svg>\n"
      ],
      "text/plain": [
       "<g {}>"
      ]
     },
     "execution_count": 82,
     "metadata": {},
     "output_type": "execute_result"
    }
   ],
   "source": [
    "triangle_grid(make_circle, 6)"
   ]
  },
  {
   "cell_type": "code",
   "execution_count": 83,
   "id": "347e873c-a21a-4462-9b1d-a1f16903db66",
   "metadata": {},
   "outputs": [],
   "source": [
    "def make_concentric_circles(size, row, column, n):\n",
    "    return concentric_circles(radius=size/2, n=row+column+1)"
   ]
  },
  {
   "cell_type": "code",
   "execution_count": 84,
   "id": "87639295-cc3e-4f8c-ad92-ad70d5d85a9d",
   "metadata": {},
   "outputs": [
    {
     "data": {
      "image/svg+xml": [
       "<svg width=\"300\" height=\"300\" viewBox=\"-150 -150 300 300\" fill=\"none\" stroke=\"black\" xmlns=\"http://www.w3.org/2000/svg\" xmlns:xlink=\"http://www.w3.org/1999/xlink\">\n",
       "<g transform=\"scale(1 -1)\">\n",
       "  <g>\n",
       "    <g transform=\"translate(-125.0 -125.0)\">\n",
       "      <circle cx=\"0\" cy=\"0\" r=\"4.166666666666667\" />\n",
       "      <circle cx=\"0\" cy=\"0\" r=\"8.333333333333334\" />\n",
       "      <circle cx=\"0\" cy=\"0\" r=\"12.5\" />\n",
       "      <circle cx=\"0\" cy=\"0\" r=\"16.666666666666668\" />\n",
       "      <circle cx=\"0\" cy=\"0\" r=\"20.833333333333336\" />\n",
       "      <circle cx=\"0\" cy=\"0\" r=\"25.0\" />\n",
       "    </g>\n",
       "    <g transform=\"translate(-75.0 -125.0)\">\n",
       "      <circle cx=\"0\" cy=\"0\" r=\"3.5714285714285716\" />\n",
       "      <circle cx=\"0\" cy=\"0\" r=\"7.142857142857143\" />\n",
       "      <circle cx=\"0\" cy=\"0\" r=\"10.714285714285715\" />\n",
       "      <circle cx=\"0\" cy=\"0\" r=\"14.285714285714286\" />\n",
       "      <circle cx=\"0\" cy=\"0\" r=\"17.857142857142858\" />\n",
       "      <circle cx=\"0\" cy=\"0\" r=\"21.42857142857143\" />\n",
       "      <circle cx=\"0\" cy=\"0\" r=\"25.0\" />\n",
       "    </g>\n",
       "    <g transform=\"translate(-25.0 -125.0)\">\n",
       "      <circle cx=\"0\" cy=\"0\" r=\"3.125\" />\n",
       "      <circle cx=\"0\" cy=\"0\" r=\"6.25\" />\n",
       "      <circle cx=\"0\" cy=\"0\" r=\"9.375\" />\n",
       "      <circle cx=\"0\" cy=\"0\" r=\"12.5\" />\n",
       "      <circle cx=\"0\" cy=\"0\" r=\"15.625\" />\n",
       "      <circle cx=\"0\" cy=\"0\" r=\"18.75\" />\n",
       "      <circle cx=\"0\" cy=\"0\" r=\"21.875\" />\n",
       "      <circle cx=\"0\" cy=\"0\" r=\"25.0\" />\n",
       "    </g>\n",
       "    <g transform=\"translate(25.0 -125.0)\">\n",
       "      <circle cx=\"0\" cy=\"0\" r=\"2.7777777777777777\" />\n",
       "      <circle cx=\"0\" cy=\"0\" r=\"5.555555555555555\" />\n",
       "      <circle cx=\"0\" cy=\"0\" r=\"8.333333333333332\" />\n",
       "      <circle cx=\"0\" cy=\"0\" r=\"11.11111111111111\" />\n",
       "      <circle cx=\"0\" cy=\"0\" r=\"13.88888888888889\" />\n",
       "      <circle cx=\"0\" cy=\"0\" r=\"16.666666666666664\" />\n",
       "      <circle cx=\"0\" cy=\"0\" r=\"19.444444444444443\" />\n",
       "      <circle cx=\"0\" cy=\"0\" r=\"22.22222222222222\" />\n",
       "      <circle cx=\"0\" cy=\"0\" r=\"25.0\" />\n",
       "    </g>\n",
       "    <g transform=\"translate(75.0 -125.0)\">\n",
       "      <circle cx=\"0\" cy=\"0\" r=\"2.5\" />\n",
       "      <circle cx=\"0\" cy=\"0\" r=\"5.0\" />\n",
       "      <circle cx=\"0\" cy=\"0\" r=\"7.5\" />\n",
       "      <circle cx=\"0\" cy=\"0\" r=\"10.0\" />\n",
       "      <circle cx=\"0\" cy=\"0\" r=\"12.5\" />\n",
       "      <circle cx=\"0\" cy=\"0\" r=\"15.0\" />\n",
       "      <circle cx=\"0\" cy=\"0\" r=\"17.5\" />\n",
       "      <circle cx=\"0\" cy=\"0\" r=\"20.0\" />\n",
       "      <circle cx=\"0\" cy=\"0\" r=\"22.5\" />\n",
       "      <circle cx=\"0\" cy=\"0\" r=\"25.0\" />\n",
       "    </g>\n",
       "    <g transform=\"translate(125.0 -125.0)\">\n",
       "      <circle cx=\"0\" cy=\"0\" r=\"2.272727272727273\" />\n",
       "      <circle cx=\"0\" cy=\"0\" r=\"4.545454545454546\" />\n",
       "      <circle cx=\"0\" cy=\"0\" r=\"6.818181818181818\" />\n",
       "      <circle cx=\"0\" cy=\"0\" r=\"9.090909090909092\" />\n",
       "      <circle cx=\"0\" cy=\"0\" r=\"11.363636363636365\" />\n",
       "      <circle cx=\"0\" cy=\"0\" r=\"13.636363636363637\" />\n",
       "      <circle cx=\"0\" cy=\"0\" r=\"15.90909090909091\" />\n",
       "      <circle cx=\"0\" cy=\"0\" r=\"18.181818181818183\" />\n",
       "      <circle cx=\"0\" cy=\"0\" r=\"20.454545454545457\" />\n",
       "      <circle cx=\"0\" cy=\"0\" r=\"22.72727272727273\" />\n",
       "      <circle cx=\"0\" cy=\"0\" r=\"25.000000000000004\" />\n",
       "    </g>\n",
       "    <g transform=\"translate(-125.0 -75.0)\">\n",
       "      <circle cx=\"0\" cy=\"0\" r=\"5.0\" />\n",
       "      <circle cx=\"0\" cy=\"0\" r=\"10.0\" />\n",
       "      <circle cx=\"0\" cy=\"0\" r=\"15.0\" />\n",
       "      <circle cx=\"0\" cy=\"0\" r=\"20.0\" />\n",
       "      <circle cx=\"0\" cy=\"0\" r=\"25.0\" />\n",
       "    </g>\n",
       "    <g transform=\"translate(-75.0 -75.0)\">\n",
       "      <circle cx=\"0\" cy=\"0\" r=\"4.166666666666667\" />\n",
       "      <circle cx=\"0\" cy=\"0\" r=\"8.333333333333334\" />\n",
       "      <circle cx=\"0\" cy=\"0\" r=\"12.5\" />\n",
       "      <circle cx=\"0\" cy=\"0\" r=\"16.666666666666668\" />\n",
       "      <circle cx=\"0\" cy=\"0\" r=\"20.833333333333336\" />\n",
       "      <circle cx=\"0\" cy=\"0\" r=\"25.0\" />\n",
       "    </g>\n",
       "    <g transform=\"translate(-25.0 -75.0)\">\n",
       "      <circle cx=\"0\" cy=\"0\" r=\"3.5714285714285716\" />\n",
       "      <circle cx=\"0\" cy=\"0\" r=\"7.142857142857143\" />\n",
       "      <circle cx=\"0\" cy=\"0\" r=\"10.714285714285715\" />\n",
       "      <circle cx=\"0\" cy=\"0\" r=\"14.285714285714286\" />\n",
       "      <circle cx=\"0\" cy=\"0\" r=\"17.857142857142858\" />\n",
       "      <circle cx=\"0\" cy=\"0\" r=\"21.42857142857143\" />\n",
       "      <circle cx=\"0\" cy=\"0\" r=\"25.0\" />\n",
       "    </g>\n",
       "    <g transform=\"translate(25.0 -75.0)\">\n",
       "      <circle cx=\"0\" cy=\"0\" r=\"3.125\" />\n",
       "      <circle cx=\"0\" cy=\"0\" r=\"6.25\" />\n",
       "      <circle cx=\"0\" cy=\"0\" r=\"9.375\" />\n",
       "      <circle cx=\"0\" cy=\"0\" r=\"12.5\" />\n",
       "      <circle cx=\"0\" cy=\"0\" r=\"15.625\" />\n",
       "      <circle cx=\"0\" cy=\"0\" r=\"18.75\" />\n",
       "      <circle cx=\"0\" cy=\"0\" r=\"21.875\" />\n",
       "      <circle cx=\"0\" cy=\"0\" r=\"25.0\" />\n",
       "    </g>\n",
       "    <g transform=\"translate(75.0 -75.0)\">\n",
       "      <circle cx=\"0\" cy=\"0\" r=\"2.7777777777777777\" />\n",
       "      <circle cx=\"0\" cy=\"0\" r=\"5.555555555555555\" />\n",
       "      <circle cx=\"0\" cy=\"0\" r=\"8.333333333333332\" />\n",
       "      <circle cx=\"0\" cy=\"0\" r=\"11.11111111111111\" />\n",
       "      <circle cx=\"0\" cy=\"0\" r=\"13.88888888888889\" />\n",
       "      <circle cx=\"0\" cy=\"0\" r=\"16.666666666666664\" />\n",
       "      <circle cx=\"0\" cy=\"0\" r=\"19.444444444444443\" />\n",
       "      <circle cx=\"0\" cy=\"0\" r=\"22.22222222222222\" />\n",
       "      <circle cx=\"0\" cy=\"0\" r=\"25.0\" />\n",
       "    </g>\n",
       "    <g transform=\"translate(-125.0 -25.0)\">\n",
       "      <circle cx=\"0\" cy=\"0\" r=\"6.25\" />\n",
       "      <circle cx=\"0\" cy=\"0\" r=\"12.5\" />\n",
       "      <circle cx=\"0\" cy=\"0\" r=\"18.75\" />\n",
       "      <circle cx=\"0\" cy=\"0\" r=\"25.0\" />\n",
       "    </g>\n",
       "    <g transform=\"translate(-75.0 -25.0)\">\n",
       "      <circle cx=\"0\" cy=\"0\" r=\"5.0\" />\n",
       "      <circle cx=\"0\" cy=\"0\" r=\"10.0\" />\n",
       "      <circle cx=\"0\" cy=\"0\" r=\"15.0\" />\n",
       "      <circle cx=\"0\" cy=\"0\" r=\"20.0\" />\n",
       "      <circle cx=\"0\" cy=\"0\" r=\"25.0\" />\n",
       "    </g>\n",
       "    <g transform=\"translate(-25.0 -25.0)\">\n",
       "      <circle cx=\"0\" cy=\"0\" r=\"4.166666666666667\" />\n",
       "      <circle cx=\"0\" cy=\"0\" r=\"8.333333333333334\" />\n",
       "      <circle cx=\"0\" cy=\"0\" r=\"12.5\" />\n",
       "      <circle cx=\"0\" cy=\"0\" r=\"16.666666666666668\" />\n",
       "      <circle cx=\"0\" cy=\"0\" r=\"20.833333333333336\" />\n",
       "      <circle cx=\"0\" cy=\"0\" r=\"25.0\" />\n",
       "    </g>\n",
       "    <g transform=\"translate(25.0 -25.0)\">\n",
       "      <circle cx=\"0\" cy=\"0\" r=\"3.5714285714285716\" />\n",
       "      <circle cx=\"0\" cy=\"0\" r=\"7.142857142857143\" />\n",
       "      <circle cx=\"0\" cy=\"0\" r=\"10.714285714285715\" />\n",
       "      <circle cx=\"0\" cy=\"0\" r=\"14.285714285714286\" />\n",
       "      <circle cx=\"0\" cy=\"0\" r=\"17.857142857142858\" />\n",
       "      <circle cx=\"0\" cy=\"0\" r=\"21.42857142857143\" />\n",
       "      <circle cx=\"0\" cy=\"0\" r=\"25.0\" />\n",
       "    </g>\n",
       "    <g transform=\"translate(-125.0 25.0)\">\n",
       "      <circle cx=\"0\" cy=\"0\" r=\"8.333333333333334\" />\n",
       "      <circle cx=\"0\" cy=\"0\" r=\"16.666666666666668\" />\n",
       "      <circle cx=\"0\" cy=\"0\" r=\"25.0\" />\n",
       "    </g>\n",
       "    <g transform=\"translate(-75.0 25.0)\">\n",
       "      <circle cx=\"0\" cy=\"0\" r=\"6.25\" />\n",
       "      <circle cx=\"0\" cy=\"0\" r=\"12.5\" />\n",
       "      <circle cx=\"0\" cy=\"0\" r=\"18.75\" />\n",
       "      <circle cx=\"0\" cy=\"0\" r=\"25.0\" />\n",
       "    </g>\n",
       "    <g transform=\"translate(-25.0 25.0)\">\n",
       "      <circle cx=\"0\" cy=\"0\" r=\"5.0\" />\n",
       "      <circle cx=\"0\" cy=\"0\" r=\"10.0\" />\n",
       "      <circle cx=\"0\" cy=\"0\" r=\"15.0\" />\n",
       "      <circle cx=\"0\" cy=\"0\" r=\"20.0\" />\n",
       "      <circle cx=\"0\" cy=\"0\" r=\"25.0\" />\n",
       "    </g>\n",
       "    <g transform=\"translate(-125.0 75.0)\">\n",
       "      <circle cx=\"0\" cy=\"0\" r=\"12.5\" />\n",
       "      <circle cx=\"0\" cy=\"0\" r=\"25.0\" />\n",
       "    </g>\n",
       "    <g transform=\"translate(-75.0 75.0)\">\n",
       "      <circle cx=\"0\" cy=\"0\" r=\"8.333333333333334\" />\n",
       "      <circle cx=\"0\" cy=\"0\" r=\"16.666666666666668\" />\n",
       "      <circle cx=\"0\" cy=\"0\" r=\"25.0\" />\n",
       "    </g>\n",
       "    <g transform=\"translate(-125.0 125.0)\">\n",
       "      <circle cx=\"0\" cy=\"0\" r=\"25.0\" />\n",
       "    </g>\n",
       "  </g>\n",
       "</g>\n",
       "</svg>\n"
      ],
      "text/plain": [
       "<g {}>"
      ]
     },
     "execution_count": 84,
     "metadata": {},
     "output_type": "execute_result"
    }
   ],
   "source": [
    "triangle_grid(make_concentric_circles, 6)"
   ]
  },
  {
   "cell_type": "code",
   "execution_count": null,
   "id": "4a55fb43-9da9-47ea-85c0-454dedfe7248",
   "metadata": {},
   "outputs": [],
   "source": []
  }
 ],
 "metadata": {
  "kernelspec": {
   "display_name": "Python 3 (ipykernel)",
   "language": "python",
   "name": "python3"
  },
  "language_info": {
   "codemirror_mode": {
    "name": "ipython",
    "version": 3
   },
   "file_extension": ".py",
   "mimetype": "text/x-python",
   "name": "python",
   "nbconvert_exporter": "python",
   "pygments_lexer": "ipython3",
   "version": "3.8.17"
  }
 },
 "nbformat": 4,
 "nbformat_minor": 5
}
