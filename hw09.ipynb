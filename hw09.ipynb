{
 "cells": [
  {
   "cell_type": "markdown",
   "id": "208b4398-ed82-41b0-bcb2-b8af2364db69",
   "metadata": {},
   "source": [
    "# Homework 09"
   ]
  },
  {
   "cell_type": "markdown",
   "id": "55e81fe9-ae66-4d35-b9a0-35f0aa8971cc",
   "metadata": {},
   "source": [
    "Please make sure you complete the problem 3 in Homework 08 as well.\n",
    "\n",
    "This week there is a reading assignment as well."
   ]
  },
  {
   "cell_type": "markdown",
   "id": "175a1d1f-c164-453c-8a0d-11163d2bdc3d",
   "metadata": {},
   "source": [
    "## Reading Assignment"
   ]
  },
  {
   "cell_type": "markdown",
   "id": "679150aa-a04c-486e-9125-9025771f39f2",
   "metadata": {},
   "source": [
    "Read [Functional Geometry by Peter Henderson (PDF)][1].\n",
    "\n",
    "Some things in this paper may look confusing a bit. Try to get an intutive understanding of it and don't worry much if there are parts that you don't understand.\n",
    "\n",
    "We'll take this up again in the next class.\n",
    "\n",
    "[1]: https://eprints.soton.ac.uk/257577/1/funcgeo2.pdf"
   ]
  },
  {
   "cell_type": "markdown",
   "id": "fa213b9c-d4fc-4071-a8ff-22fb98448f1b",
   "metadata": {},
   "source": [
    "## Problem 1: Right Split"
   ]
  },
  {
   "cell_type": "markdown",
   "id": "868901ea-2f0e-492b-a51f-4f7acdd1aa96",
   "metadata": {},
   "source": [
    "Write a function `right_split` that takes a shape and a number `n` as arguments and repeats the shape to up `n` levels as in the figure below.\n",
    "\n",
    "![](images/hw09-right-split.svg)\n",
    "\n",
    "You can see different levels in the picture below.\n",
    "\n",
    "![](images/hw09-right-split-details.svg)\n",
    "\n",
    "Please note that this takes only one half of the drawing area. You can draw it either in the top-half or bottom-half and leave the other empty. You can achieve that using a blank shape either above or below.\n",
    "\n",
    "The following code:\n",
    "\n",
    "```\n",
    "shape = circle(fill='gray')\n",
    "right_split0(shape, 4)\n",
    "```\n",
    "\n",
    "should produce:\n",
    "\n",
    "![](images/hw09-right-split-circle.svg)\n",
    "\n",
    "If is fine, you get a streched image like this. In fact, it is better if you try to achieve this first and then try to make it look like the above.\n",
    "\n",
    "![](images/hw09-right-split-circle-streched.svg)\n"
   ]
  },
  {
   "cell_type": "code",
   "execution_count": 1,
   "id": "ccaae3bc-3a7e-47c2-a4fa-9e6295dc84c4",
   "metadata": {
    "execution": {
     "iopub.execute_input": "2023-12-02T12:53:39.096414Z",
     "iopub.status.busy": "2023-12-02T12:53:39.096090Z",
     "iopub.status.idle": "2023-12-02T12:53:39.100598Z",
     "shell.execute_reply": "2023-12-02T12:53:39.099784Z",
     "shell.execute_reply.started": "2023-12-02T12:53:39.096387Z"
    }
   },
   "outputs": [],
   "source": [
    "# your code here\n",
    "\n"
   ]
  },
  {
   "cell_type": "code",
   "execution_count": null,
   "id": "8b9e059a-ff4e-4240-b848-0ee9de1769fc",
   "metadata": {},
   "outputs": [],
   "source": []
  },
  {
   "cell_type": "code",
   "execution_count": null,
   "id": "790464a2-9a85-4489-b9b4-83a8d8e3de99",
   "metadata": {},
   "outputs": [],
   "source": []
  },
  {
   "cell_type": "markdown",
   "id": "7ba88d23-c091-4d36-9476-cdbf46138e4d",
   "metadata": {},
   "source": [
    "## Problem 2: Top split"
   ]
  },
  {
   "cell_type": "markdown",
   "id": "b254d8c8-6c9e-40d6-81d0-ccb22449612c",
   "metadata": {},
   "source": [
    "Implement a function `top_split` that takes a shape and a number `n` as arguments and repeats the shape by spliting the screen in top, similar to the `right_split` function.\n",
    "\n",
    "\n",
    "```\n",
    "shape = circle(fill='gray')\n",
    "top_split(shape, 4)\n",
    "```\n",
    "\n",
    "![](images/hw09-top-split-circle.svg)"
   ]
  },
  {
   "cell_type": "code",
   "execution_count": null,
   "id": "0484d6cb-1a5c-4e5e-aa27-dcd78831378a",
   "metadata": {},
   "outputs": [],
   "source": [
    "# Your code here\n",
    "\n"
   ]
  },
  {
   "cell_type": "code",
   "execution_count": null,
   "id": "9d0a5833-2409-452a-99bf-ad681b8ec24a",
   "metadata": {},
   "outputs": [],
   "source": []
  },
  {
   "cell_type": "code",
   "execution_count": null,
   "id": "14466c36-b8ac-4cca-a861-897365009d84",
   "metadata": {},
   "outputs": [],
   "source": []
  },
  {
   "cell_type": "code",
   "execution_count": null,
   "id": "1d3a4e6a-75c0-44e3-84e3-755263f57b5a",
   "metadata": {},
   "outputs": [],
   "source": []
  },
  {
   "cell_type": "markdown",
   "id": "ee63567c-9250-4a31-8a0b-2f3d7e1101b3",
   "metadata": {},
   "source": [
    "## Problem 3: Corner Split (Bonus problem)"
   ]
  },
  {
   "cell_type": "markdown",
   "id": "598401cd-7b8a-4a5e-b382-20fa7f6e32a5",
   "metadata": {},
   "source": [
    "Implement a function `corner_split` that takes a shape and a number `n` as arguments and repeats the shape as shown in the example below. \n",
    "\n",
    "Corner split of a circle:\n",
    "\n",
    "```\n",
    "shape = circle(fill='gray')\n",
    "corner_split(shape, 4)\n",
    "```\n",
    "\n",
    "![](images/hw09-corner-split-circle.svg)\n",
    "\n",
    "\n",
    "Corner split of a spiral:\n",
    "\n",
    "```\n",
    "shape = circle(x=100, r=50) | repeat(100, rotate(10) | scale(0.97))\n",
    "s = corner_split(shape, 4)\n",
    "```\n",
    "\n",
    "![](images/hw09-corner-split-spiral.svg)\n"
   ]
  },
  {
   "cell_type": "code",
   "execution_count": null,
   "id": "e53bfd06-ed64-4192-9a16-534335a9f80d",
   "metadata": {},
   "outputs": [],
   "source": []
  }
 ],
 "metadata": {
  "kernelspec": {
   "display_name": "Python 3 (ipykernel)",
   "language": "python",
   "name": "python3"
  },
  "language_info": {
   "codemirror_mode": {
    "name": "ipython",
    "version": 3
   },
   "file_extension": ".py",
   "mimetype": "text/x-python",
   "name": "python",
   "nbconvert_exporter": "python",
   "pygments_lexer": "ipython3",
   "version": "3.10.10"
  }
 },
 "nbformat": 4,
 "nbformat_minor": 5
}
